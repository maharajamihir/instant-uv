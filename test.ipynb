{
 "cells": [
  {
   "cell_type": "raw",
   "id": "9f860df9fa73c3c1",
   "metadata": {
    "vscode": {
     "languageId": "raw"
    }
   },
   "source": []
  }
 ],
 "metadata": {
  "kernelspec": {
   "display_name": "3dml",
   "language": "python",
   "name": "python3"
  },
  "language_info": {
   "name": "python",
   "version": "3.9.19"
  }
 },
 "nbformat": 5,
 "nbformat_minor": 9
}
